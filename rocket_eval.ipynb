{
 "cells": [
  {
   "cell_type": "markdown",
   "metadata": {},
   "source": [
    "# Rocket performance evaluation"
   ]
  },
  {
   "cell_type": "markdown",
   "metadata": {},
   "source": [
    "The purpose of this notebook is to provide some initial evaluation of rocket performance.\n",
    "This particular evaluation is for two stages going to LEO.\n",
    "\n",
    "A module of naming conventions and conversion constants is used to provide convenient naming, etc. An underscore is appended on names to minimize collision with variable names.  For example, initial and final mass are \"m0_\" and \"m1_\".\n",
    "\n",
    "Also, import Python standard math module."
   ]
  },
  {
   "cell_type": "code",
   "execution_count": 1,
   "metadata": {},
   "outputs": [],
   "source": [
    "from conventions import *    # includes unit conversions and useful constant names.\n",
    "import math"
   ]
  },
  {
   "cell_type": "markdown",
   "metadata": {},
   "source": [
    "## Launch objective\n",
    "\n",
    "The objective is to get a payload of about 55 lb-m to LEO. The cumulative delta V requirement to get to LEO is set at 11.0 km/sec.\n",
    "\n",
    "For convenience, we specify both initial and final mass for the payload, although it does not hcange."
   ]
  },
  {
   "cell_type": "code",
   "execution_count": 2,
   "metadata": {},
   "outputs": [],
   "source": [
    "target_dV = 11000.0    # m/s\n",
    "payload = {\n",
    "    name_ : 'satellite',\n",
    "    m0_ : 55.1 * lb2kg,  # payload\n",
    "    MR_ : 1.0,\n",
    "}\n",
    "payload[m1_] = payload[m0_]    # payload does not change mass"
   ]
  },
  {
   "cell_type": "markdown",
   "metadata": {},
   "source": [
    "## Vehicle\n",
    "\n",
    "Below is a basic description of the rocket.  Notation is Python variables, often in \"dictionaries\"."
   ]
  },
  {
   "cell_type": "code",
   "execution_count": 3,
   "metadata": {},
   "outputs": [],
   "source": [
    "stage1 = {\n",
    "    name_ : 'CSTR 4A',\n",
    "    m0_ : 25737.0 * lb2kg,\n",
    "    m1_ : 3239.0 * lb2kg,\n",
    "    isp_ : 265.3, # sec\n",
    "    Tpeak_ : 120880.0, # lbf\n",
    "    Tavg_  : 108190.0, # lbf\n",
    "}\n",
    "stage2 = {\n",
    "    name_ : 'BARK',  # Build A Rocket Kit\n",
    "    m0_ : 8500.0 * lb2kg,\n",
    "    m1_ : 800.0 * lb2kg,\n",
    "    isp_ : 340.0, # sec\n",
    "}"
   ]
  },
  {
   "cell_type": "markdown",
   "metadata": {},
   "source": [
    "### Mass ratios - individual stages\n",
    "\n",
    "Mass ratio = initial mass / final mass.  That is, MR > 1.0."
   ]
  },
  {
   "cell_type": "code",
   "execution_count": 4,
   "metadata": {},
   "outputs": [
    {
     "name": "stdout",
     "output_type": "stream",
     "text": [
      "stage name         m0(kg)      m1(kg)        MR     \n",
      "CSTR 4A           11674.1068   1469.1857     7.94597\n",
      "BARK               3855.5351    362.8739    10.62500\n",
      "satellite            24.9929     24.9929     1.00000\n"
     ]
    }
   ],
   "source": [
    "headings = {\n",
    "    'name': 'stage name',\n",
    "    'm0': 'm0(kg)',\n",
    "    'm1': 'm1(kg)',\n",
    "    'MR': 'MR'}\n",
    "print('{name:<16} {m0:^11} {m1:^11} {MR:^11}'.format(**headings))\n",
    "\n",
    "for stage in (stage1, stage2, payload):\n",
    "    stage[MR_] = stage[m0_] / stage[m1_]\n",
    "    print('{name:<16s} {m0:11.4f} {m1:11.4f} {MR:11.5f}'.format(**stage))"
   ]
  },
  {
   "cell_type": "markdown",
   "metadata": {},
   "source": [
    "### Mass ratios - Vehicle"
   ]
  },
  {
   "cell_type": "code",
   "execution_count": 5,
   "metadata": {},
   "outputs": [
    {
     "name": "stdout",
     "output_type": "stream",
     "text": [
      "stage name         m0(kg)      m1(kg)        MR     \n",
      "stages 1 + 2      15554.6349   5349.7138     2.90756\n",
      "stage 2            3880.5281    387.8668    10.00479\n"
     ]
    }
   ],
   "source": [
    "# vehicle cumulative\n",
    "upper = stage2[m0_] + payload[m0_]\n",
    "stage1V = {\n",
    "    name_ : 'stages 1 + 2',\n",
    "    m0_ : stage1[m0_] + upper,\n",
    "    m1_ : stage1[m1_] + upper,\n",
    "}\n",
    "upper = payload[m0_]\n",
    "stage2V = {\n",
    "    name_ : 'stage 2',\n",
    "    m0_ : stage2[m0_] + upper,\n",
    "    m1_ : stage2[m1_] + upper,\n",
    "}\n",
    "\n",
    "print('{name:<16} {m0:^11} {m1:^11} {MR:^11}'.format(**headings))\n",
    "for stage in (stage1V, stage2V):\n",
    "    stage[MR_] = stage[m0_] / stage[m1_]\n",
    "    print('{name:<16s} {m0:11.4f} {m1:11.4f} {MR:11.5f}'.format(**stage))"
   ]
  },
  {
   "cell_type": "markdown",
   "metadata": {},
   "source": [
    "## delta V desired\n",
    "\n",
    "Compute stage 1 deltaV requirement for LEO."
   ]
  },
  {
   "cell_type": "code",
   "execution_count": 6,
   "metadata": {},
   "outputs": [
    {
     "name": "stdout",
     "output_type": "stream",
     "text": [
      "CSTR 4A          dV   4821.2457\n",
      "BARK             dV   6178.7543\n",
      "dV sum               11000.0000\n"
     ]
    }
   ],
   "source": [
    "for stage in (stage1, stage2):\n",
    "    stage[dVdsrd_] = (stage[isp_] / (stage1[isp_]+stage2[isp_])) * target_dV\n",
    "    print(\"{name:<16} dV {dVdsrd:11.4f}\".format(**stage))\n",
    "print(\"dV sum {:24.4f}\".format(sum([stage[dVdsrd_] for stage in (stage1, stage2)])))"
   ]
  },
  {
   "cell_type": "markdown",
   "metadata": {},
   "source": [
    "## delta V expected"
   ]
  },
  {
   "cell_type": "code",
   "execution_count": 7,
   "metadata": {},
   "outputs": [
    {
     "name": "stdout",
     "output_type": "stream",
     "text": [
      "stages 1 + 2     dV   2776.8395\n",
      "stage 2          dV   7679.0180\n",
      "dV sum               10455.8575\n"
     ]
    }
   ],
   "source": [
    "stage1V[isp_] = stage1[isp_]\n",
    "stage2V[isp_] = stage2[isp_]\n",
    "for stage in (stage1V, stage2V):\n",
    "    stage[dV_] = stage[isp_]*gEarth*math.log(stage[MR_])\n",
    "    print(\"{name:<16} dV {dV:11.4f}\".format(**stage))\n",
    "print(\"dV sum {:24.4f}\".format(sum([stage[dV_] for stage in (stage1V, stage2V)])))"
   ]
  },
  {
   "cell_type": "markdown",
   "metadata": {},
   "source": [
    "## Stage 1 acceleration"
   ]
  },
  {
   "cell_type": "code",
   "execution_count": 13,
   "metadata": {},
   "outputs": [
    {
     "name": "stdout",
     "output_type": "stream",
     "text": [
      "max G 9.17323068313818\n",
      "max accel (m/s/s) 89.95866267879703\n",
      "init G 3.525010133529297\n"
     ]
    }
   ],
   "source": [
    "maxG = stage1[Tavg_] / (stage1V[m1_]*kg2lb)  # final G is avg thrust\n",
    "accelmaxG = maxG * gEarth\n",
    "initG = stage1[Tpeak_] / (stage1V[m0_]*kg2lb)\n",
    "print(\"max G\", maxG)\n",
    "print(\"max accel (m/s/s)\", accelmaxG)\n",
    "print(\"init G\", initG)"
   ]
  },
  {
   "cell_type": "code",
   "execution_count": null,
   "metadata": {},
   "outputs": [],
   "source": []
  }
 ],
 "metadata": {
  "kernelspec": {
   "display_name": "Python 3",
   "language": "python",
   "name": "python3"
  },
  "language_info": {
   "codemirror_mode": {
    "name": "ipython",
    "version": 3
   },
   "file_extension": ".py",
   "mimetype": "text/x-python",
   "name": "python",
   "nbconvert_exporter": "python",
   "pygments_lexer": "ipython3",
   "version": "3.5.2"
  }
 },
 "nbformat": 4,
 "nbformat_minor": 2
}
